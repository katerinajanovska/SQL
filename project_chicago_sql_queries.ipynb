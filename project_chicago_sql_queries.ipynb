{
 "cells": [
  {
   "cell_type": "markdown",
   "metadata": {},
   "source": [
    "Kategorizace oblastí dle výše příjmů na osobu. Výběr názvů oblastí, ve kterých pod hranicí chudoby žije více než 20% domácností.\n",
    "\n",
    "*Rozhraní DB-API, parametrizace, uložení dotazu do proměnné, funkce CASE, CTE, načtení výstupu do formátu DataFrame*"
   ]
  },
  {
   "cell_type": "code",
   "execution_count": 5,
   "metadata": {},
   "outputs": [
    {
     "name": "stdout",
     "output_type": "stream",
     "text": [
      "  COMMUNITY_AREA_NAME  PER_CAPITA_INCOME  PERCENT_HOUSEHOLDS_BELOW_POVERTY  \\\n",
      "0      Near West Side              44689                              20.6   \n",
      "1             Kenwood              35911                              21.7   \n",
      "2              Uptown              35787                              24.0   \n",
      "3         Rogers Park              23939                              23.6   \n",
      "4             Douglas              23791                              29.6   \n",
      "\n",
      "           INCOME_LEVEL  \n",
      "0       Mid Income Area  \n",
      "1       Low Income Area  \n",
      "2       Low Income Area  \n",
      "3  Very Low Income Area  \n",
      "4  Very Low Income Area  \n"
     ]
    }
   ],
   "source": [
    "import sqlite3\n",
    "import pandas as pd\n",
    "\n",
    "conn = sqlite3.connect('chicago_database.db')\n",
    "cursor = conn.cursor()\n",
    "\n",
    "query = \"\"\"\n",
    "    WITH income_level_categorised AS\n",
    "        (SELECT COMMUNITY_AREA_NAME, PER_CAPITA_INCOME, PERCENT_HOUSEHOLDS_BELOW_POVERTY,\n",
    "            CASE\n",
    "                WHEN PER_CAPITA_INCOME < 24000 THEN \"Very Low Income Area\"\n",
    "                WHEN PER_CAPITA_INCOME BETWEEN 24001 AND 40000 THEN \"Low Income Area\"\n",
    "                WHEN PER_CAPITA_INCOME BETWEEN 40001 AND 56000 THEN \"Mid Income Area\"\n",
    "                WHEN PER_CAPITA_INCOME BETWEEN 56001 AND 70000 THEN \"High Income Area\"\n",
    "                WHEN PER_CAPITA_INCOME > 70001 THEN \"Very High Income Area\"\n",
    "                ELSE \"Outlier\"\n",
    "            END AS INCOME_LEVEL\n",
    "        FROM census)\n",
    "\n",
    "    SELECT * FROM income_level_categorised\n",
    "    WHERE PERCENT_HOUSEHOLDS_BELOW_POVERTY > ?\n",
    "    ORDER BY PER_CAPITA_INCOME DESC\n",
    "    \"\"\"\n",
    "\n",
    "percent_households_below_poverty = (20,)\n",
    "\n",
    "results = pd.read_sql_query(query, conn, params = percent_households_below_poverty)\n",
    "print(results.head(5))\n",
    "\n",
    "cursor.close()\n",
    "conn.close()\n"
   ]
  },
  {
   "cell_type": "markdown",
   "metadata": {},
   "source": [
    "Výběr škol z oblastí s vyšším počtem trestných činů, než je průměrný počet trestných činů pro všechny oblasti. Vybrané školy současně získaly certifikaci \"Healthy School\".\n",
    "\n",
    "*Rozhraní Jupyter Notebook - SQL Magic, View, Implicit Join, Nested Select*"
   ]
  },
  {
   "cell_type": "code",
   "execution_count": 6,
   "metadata": {},
   "outputs": [],
   "source": [
    "%load_ext sql\n",
    "import prettytable\n",
    "prettytable.DEFAULT = 'DEFAULT'\n",
    "\n",
    "%sql sqlite:///chicago_database.db"
   ]
  },
  {
   "cell_type": "code",
   "execution_count": 7,
   "metadata": {},
   "outputs": [
    {
     "name": "stdout",
     "output_type": "stream",
     "text": [
      " * sqlite:///chicago_database.db\n",
      "Done.\n"
     ]
    },
    {
     "data": {
      "text/plain": [
       "[]"
      ]
     },
     "execution_count": 7,
     "metadata": {},
     "output_type": "execute_result"
    }
   ],
   "source": [
    "%%sql\n",
    "\n",
    "CREATE VIEW area_crime_totals AS\n",
    "SELECT COMMUNITY_AREA_NUMBER, COUNT(DISTINCT id) AS CRIMES_PER_AREA\n",
    "FROM crime\n",
    "GROUP BY COMMUNITY_AREA_NUMBER;"
   ]
  },
  {
   "cell_type": "code",
   "execution_count": 8,
   "metadata": {},
   "outputs": [
    {
     "name": "stdout",
     "output_type": "stream",
     "text": [
      " * sqlite:///chicago_database.db\n",
      "Done.\n"
     ]
    },
    {
     "data": {
      "text/html": [
       "<table>\n",
       "    <thead>\n",
       "        <tr>\n",
       "            <th>School_ID</th>\n",
       "            <th>NAME_OF_SCHOOL</th>\n",
       "            <th>COMMUNITY_AREA_NAME</th>\n",
       "            <th>CRIMES_PER_AREA</th>\n",
       "        </tr>\n",
       "    </thead>\n",
       "    <tbody>\n",
       "        <tr>\n",
       "            <td>610320</td>\n",
       "            <td>Ana Roque de Duprey Elementary School</td>\n",
       "            <td>WEST TOWN</td>\n",
       "            <td>9</td>\n",
       "        </tr>\n",
       "        <tr>\n",
       "            <td>610313</td>\n",
       "            <td>Jose De Diego Elementary Community Academy</td>\n",
       "            <td>WEST TOWN</td>\n",
       "            <td>9</td>\n",
       "        </tr>\n",
       "        <tr>\n",
       "            <td>610125</td>\n",
       "            <td>Irma C Ruiz Elementary School</td>\n",
       "            <td>LOWER WEST SIDE</td>\n",
       "            <td>8</td>\n",
       "        </tr>\n",
       "        <tr>\n",
       "            <td>610216</td>\n",
       "            <td>John A Walsh Elementary School</td>\n",
       "            <td>LOWER WEST SIDE</td>\n",
       "            <td>8</td>\n",
       "        </tr>\n",
       "        <tr>\n",
       "            <td>609872</td>\n",
       "            <td>Manuel Perez Elementary School</td>\n",
       "            <td>LOWER WEST SIDE</td>\n",
       "            <td>8</td>\n",
       "        </tr>\n",
       "    </tbody>\n",
       "</table>"
      ],
      "text/plain": [
       "[(610320, 'Ana Roque de Duprey Elementary School', 'WEST TOWN', 9),\n",
       " (610313, 'Jose De Diego Elementary Community Academy', 'WEST TOWN', 9),\n",
       " (610125, 'Irma C Ruiz Elementary School', 'LOWER WEST SIDE', 8),\n",
       " (610216, 'John A Walsh Elementary School', 'LOWER WEST SIDE', 8),\n",
       " (609872, 'Manuel Perez Elementary School', 'LOWER WEST SIDE', 8)]"
      ]
     },
     "execution_count": 8,
     "metadata": {},
     "output_type": "execute_result"
    }
   ],
   "source": [
    "%%sql\n",
    "\n",
    "SELECT s.School_ID, s.NAME_OF_SCHOOL, s.COMMUNITY_AREA_NAME, a.CRIMES_PER_AREA\n",
    "FROM schools s, area_crime_totals a\n",
    "WHERE s.COMMUNITY_AREA_NUMBER = a.COMMUNITY_AREA_NUMBER\n",
    "    AND a.CRIMES_PER_AREA > (SELECT AVG(CRIMES_PER_AREA) FROM area_crime_totals)\n",
    "    AND UPPER(s.HEALTHY_SCHOOL_CERTIFIED) = \"YES\"\n",
    "ORDER BY a.CRIMES_PER_AREA DESC\n",
    "LIMIT 5"
   ]
  },
  {
   "cell_type": "markdown",
   "metadata": {},
   "source": [
    "Výběr názvů oblastí, číselných označení oblastí a indexu HARDSHIP (skóre shrnující vícero socioekonomických indikátorů). Pokud HARDSHIP index není u oblasti uveden, bude nahrazen průměrnou hodnotou HARDSHIP indexu všech oblastí. \n",
    "\n",
    "Výběr zahrnuje pouze ty oblasti, pro které neexistuje záznam přečinu typu “DECEPTIVE PRACTISE”.\n",
    "\n",
    "*Rozhraní Jupyter Notebook - SQL Magic, NULL-Function, Nested Select, Explicit Join*"
   ]
  },
  {
   "cell_type": "code",
   "execution_count": 9,
   "metadata": {},
   "outputs": [
    {
     "name": "stdout",
     "output_type": "stream",
     "text": [
      " * sqlite:///chicago_database.db\n",
      "Done.\n"
     ]
    },
    {
     "data": {
      "text/html": [
       "<table>\n",
       "    <thead>\n",
       "        <tr>\n",
       "            <th>COMMUNITY_AREA_NUMBER</th>\n",
       "            <th>COMMUNITY_AREA_NAME</th>\n",
       "            <th>HARDSHIP_INDEX_CORRECTED</th>\n",
       "        </tr>\n",
       "    </thead>\n",
       "    <tbody>\n",
       "        <tr>\n",
       "            <td>3.0</td>\n",
       "            <td>Uptown</td>\n",
       "            <td>20.0</td>\n",
       "        </tr>\n",
       "        <tr>\n",
       "            <td>4.0</td>\n",
       "            <td>Lincoln Square</td>\n",
       "            <td>17.0</td>\n",
       "        </tr>\n",
       "        <tr>\n",
       "            <td>5.0</td>\n",
       "            <td>North Center</td>\n",
       "            <td>6.0</td>\n",
       "        </tr>\n",
       "        <tr>\n",
       "            <td>7.0</td>\n",
       "            <td>Lincoln Park</td>\n",
       "            <td>2.0</td>\n",
       "        </tr>\n",
       "        <tr>\n",
       "            <td>9.0</td>\n",
       "            <td>Edison Park</td>\n",
       "            <td>8.0</td>\n",
       "        </tr>\n",
       "    </tbody>\n",
       "</table>"
      ],
      "text/plain": [
       "[(3.0, 'Uptown', 20.0),\n",
       " (4.0, 'Lincoln Square', 17.0),\n",
       " (5.0, 'North Center', 6.0),\n",
       " (7.0, 'Lincoln Park', 2.0),\n",
       " (9.0, 'Edison Park', 8.0)]"
      ]
     },
     "execution_count": 9,
     "metadata": {},
     "output_type": "execute_result"
    }
   ],
   "source": [
    "%%sql\n",
    "\n",
    "SELECT\n",
    "    s.COMMUNITY_AREA_NUMBER, s.COMMUNITY_AREA_NAME,\n",
    "    IFNULL(s.HARDSHIP_INDEX,\n",
    "           (SELECT AVG(HARDSHIP_INDEX) FROM census s)) \n",
    "       AS HARDSHIP_INDEX_CORRECTED\n",
    "FROM census s\n",
    "    LEFT JOIN crime e ON s.COMMUNITY_AREA_NUMBER = e.COMMUNITY_AREA_NUMBER AND e.PRIMARY_TYPE = \"DECEPTIVE PRACTICE\"\n",
    "WHERE e.PRIMARY_TYPE IS NULL\n",
    "LIMIT 5\n"
   ]
  },
  {
   "cell_type": "markdown",
   "metadata": {},
   "source": [
    "Výpočet celkového a kumulativního počtu trestných činů v jednotlivých měsících.\n",
    "\n",
    "*Rozhraní SQL Magic, SQLite Date Functions, Window Function, CTE*"
   ]
  },
  {
   "cell_type": "code",
   "execution_count": 10,
   "metadata": {},
   "outputs": [
    {
     "name": "stdout",
     "output_type": "stream",
     "text": [
      " * sqlite:///chicago_database.db\n",
      "Done.\n"
     ]
    },
    {
     "data": {
      "text/html": [
       "<table>\n",
       "    <thead>\n",
       "        <tr>\n",
       "            <th>YEAR</th>\n",
       "            <th>MONTH</th>\n",
       "            <th>CRIMES_TOTAL</th>\n",
       "            <th>CUMULATIVE_CRIMES_TOTAL</th>\n",
       "        </tr>\n",
       "    </thead>\n",
       "    <tbody>\n",
       "        <tr>\n",
       "            <td>2001</td>\n",
       "            <td>09</td>\n",
       "            <td>1</td>\n",
       "            <td>1</td>\n",
       "        </tr>\n",
       "        <tr>\n",
       "            <td>2002</td>\n",
       "            <td>04</td>\n",
       "            <td>3</td>\n",
       "            <td>4</td>\n",
       "        </tr>\n",
       "        <tr>\n",
       "            <td>2002</td>\n",
       "            <td>05</td>\n",
       "            <td>3</td>\n",
       "            <td>7</td>\n",
       "        </tr>\n",
       "        <tr>\n",
       "            <td>2002</td>\n",
       "            <td>06</td>\n",
       "            <td>3</td>\n",
       "            <td>10</td>\n",
       "        </tr>\n",
       "        <tr>\n",
       "            <td>2002</td>\n",
       "            <td>07</td>\n",
       "            <td>2</td>\n",
       "            <td>12</td>\n",
       "        </tr>\n",
       "        <tr>\n",
       "            <td>2002</td>\n",
       "            <td>08</td>\n",
       "            <td>3</td>\n",
       "            <td>15</td>\n",
       "        </tr>\n",
       "        <tr>\n",
       "            <td>2002</td>\n",
       "            <td>09</td>\n",
       "            <td>4</td>\n",
       "            <td>19</td>\n",
       "        </tr>\n",
       "        <tr>\n",
       "            <td>2002</td>\n",
       "            <td>10</td>\n",
       "            <td>6</td>\n",
       "            <td>25</td>\n",
       "        </tr>\n",
       "        <tr>\n",
       "            <td>2002</td>\n",
       "            <td>12</td>\n",
       "            <td>5</td>\n",
       "            <td>30</td>\n",
       "        </tr>\n",
       "        <tr>\n",
       "            <td>2003</td>\n",
       "            <td>01</td>\n",
       "            <td>1</td>\n",
       "            <td>31</td>\n",
       "        </tr>\n",
       "    </tbody>\n",
       "</table>"
      ],
      "text/plain": [
       "[('2001', '09', 1, 1),\n",
       " ('2002', '04', 3, 4),\n",
       " ('2002', '05', 3, 7),\n",
       " ('2002', '06', 3, 10),\n",
       " ('2002', '07', 2, 12),\n",
       " ('2002', '08', 3, 15),\n",
       " ('2002', '09', 4, 19),\n",
       " ('2002', '10', 6, 25),\n",
       " ('2002', '12', 5, 30),\n",
       " ('2003', '01', 1, 31)]"
      ]
     },
     "execution_count": 10,
     "metadata": {},
     "output_type": "execute_result"
    }
   ],
   "source": [
    "%%sql\n",
    "\n",
    "WITH monthly_crimes AS (\n",
    "       SELECT strftime ('%Y', DATE) AS YEAR,\n",
    "              strftime ('%m', DATE) AS MONTH,\n",
    "              COUNT(DISTINCT ID) AS CRIMES_TOTAL\n",
    "       FROM crime\n",
    "       GROUP BY YEAR, MONTH)\n",
    "\n",
    "\n",
    "SELECT \n",
    "       YEAR, \n",
    "       MONTH, \n",
    "       CRIMES_TOTAL, \n",
    "       SUM (CRIMES_TOTAL) OVER (ORDER BY YEAR, MONTH) \n",
    "               AS CUMULATIVE_CRIMES_TOTAL\n",
    "FROM monthly_crimes\n",
    "LIMIT(10)\n"
   ]
  }
 ],
 "metadata": {
  "kernelspec": {
   "display_name": "python_course",
   "language": "python",
   "name": "python3"
  },
  "language_info": {
   "codemirror_mode": {
    "name": "ipython",
    "version": 3
   },
   "file_extension": ".py",
   "mimetype": "text/x-python",
   "name": "python",
   "nbconvert_exporter": "python",
   "pygments_lexer": "ipython3",
   "version": "3.11.11"
  }
 },
 "nbformat": 4,
 "nbformat_minor": 2
}
